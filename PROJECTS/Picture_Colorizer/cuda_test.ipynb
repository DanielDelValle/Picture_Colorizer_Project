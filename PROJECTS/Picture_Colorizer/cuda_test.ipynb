{
 "cells": [
  {
   "cell_type": "code",
   "execution_count": null,
   "source": [
    "import numpy as np\r\n",
    "from timeit import default_timer as timer\r\n",
    "from numba import vectorize\r\n",
    " \r\n",
    "# This should be a substantially high value. On my test machine, this took\r\n",
    "# 33 seconds to run via the CPU and just over 3 seconds on the GPU.\r\n",
    "NUM_ELEMENTS = 100000000\r\n",
    " \r\n",
    "# This is the CPU version.\r\n",
    "def vector_add_cpu(a, b):\r\n",
    "  c = np.zeros(NUM_ELEMENTS, dtype=np.float32)\r\n",
    "  for i in range(NUM_ELEMENTS):\r\n",
    "    c[i] = a[i] + b[i]\r\n",
    "  return c\r\n",
    " \r\n",
    "# This is the GPU version. Note the @vectorize decorator. This tells\r\n",
    "# numba to turn this into a GPU vectorized function.\r\n",
    "@vectorize([\"float32(float32, float32)\"], target='cuda')\r\n",
    "def vector_add_gpu(a, b):\r\n",
    "  return a + b;\r\n",
    " \r\n",
    "def main():\r\n",
    "  a_source = np.ones(NUM_ELEMENTS, dtype=np.float32)\r\n",
    "  b_source = np.ones(NUM_ELEMENTS, dtype=np.float32)\r\n",
    " \r\n",
    "  # Time the CPU function\r\n",
    "  start = timer()\r\n",
    "  vector_add_cpu(a_source, b_source)\r\n",
    "  vector_add_cpu_time = timer() - start\r\n",
    " \r\n",
    "  # Time the GPU function\r\n",
    "  start = timer()\r\n",
    "  vector_add_gpu(a_source, b_source)\r\n",
    "  vector_add_gpu_time = timer() - start\r\n",
    " \r\n",
    "  # Report times\r\n",
    "  print(\"CPU function took %f seconds.\" % vector_add_cpu_time)\r\n",
    "  print(\"GPU function took %f seconds.\" % vector_add_gpu_time)\r\n",
    " \r\n",
    "  return 0\r\n",
    " \r\n",
    "if __name__ == \"__main__\":\r\n",
    "  main()"
   ],
   "outputs": [],
   "metadata": {}
  }
 ],
 "metadata": {
  "orig_nbformat": 4,
  "language_info": {
   "name": "python",
   "version": "3.8.8",
   "mimetype": "text/x-python",
   "codemirror_mode": {
    "name": "ipython",
    "version": 3
   },
   "pygments_lexer": "ipython3",
   "nbconvert_exporter": "python",
   "file_extension": ".py"
  },
  "kernelspec": {
   "name": "python3",
   "display_name": "Python 3.8.8 64-bit"
  },
  "interpreter": {
   "hash": "1baa965d5efe3ac65b79dfc60c0d706280b1da80fedb7760faf2759126c4f253"
  }
 },
 "nbformat": 4,
 "nbformat_minor": 2
}