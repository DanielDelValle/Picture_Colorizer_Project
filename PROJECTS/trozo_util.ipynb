{
 "metadata": {
  "language_info": {
   "codemirror_mode": {
    "name": "ipython",
    "version": 3
   },
   "file_extension": ".py",
   "mimetype": "text/x-python",
   "name": "python",
   "nbconvert_exporter": "python",
   "pygments_lexer": "ipython3",
   "version": "3.8.8"
  },
  "orig_nbformat": 2,
  "kernelspec": {
   "name": "python3",
   "display_name": "Python 3.8.8 64-bit",
   "metadata": {
    "interpreter": {
     "hash": "1baa965d5efe3ac65b79dfc60c0d706280b1da80fedb7760faf2759126c4f253"
    }
   }
  }
 },
 "nbformat": 4,
 "nbformat_minor": 2,
 "cells": [
  {
   "cell_type": "code",
   "execution_count": null,
   "metadata": {},
   "outputs": [],
   "source": [
    "# load all images in a directory into memory\n",
    "def load_images(path, size=(256,512)):\n",
    "\tsrc_list, tar_list = list(), list()\n",
    "\t# enumerate filenames in directory, assume all are images\n",
    "\tfor filename in listdir(path):\n",
    "\t\t# load and resize the image\n",
    "\t\tpixels = load_img(path + filename, target_size=size)\n",
    "\t\t# convert to numpy array\n",
    "\t\tpixels = img_to_array(pixels)\n",
    "\t\t# split into satellite and map\n",
    "\t\tsat_img, map_img = pixels[:, :256], pixels[:, 256:]\n",
    "\t\tsrc_list.append(sat_img)\n",
    "\t\ttar_list.append(map_img)\n",
    "\treturn [asarray(src_list), asarray(tar_list)]"
   ]
  },
  {
   "cell_type": "code",
   "execution_count": null,
   "metadata": {},
   "outputs": [],
   "source": [
    "def autoencoder(inputs):\n",
    "\n",
    "    # Encoder\n",
    "    net = tf.layers.conv2d(inputs, 128, 2, activation = tf.nn.relu)\n",
    "    net = tf.layers.max_pooling2d(net, 2, 2, padding = 'same')\n",
    "\n",
    "    # Decoder\n",
    "    net = tf.image.resize_nearest_neighbor(net, tf.constant([129, 129]))\n",
    "    net = tf.layers.conv2d(net, 1, 2, activation = None, name = 'outputOfAuto')\n",
    "\n",
    "    return net"
   ]
  },
  {
   "cell_type": "code",
   "execution_count": null,
   "metadata": {},
   "outputs": [],
   "source": [
    "import numpy \n",
    "import math\n",
    "import cv2\n",
    "original = cv2.imread(\"original.png\")\n",
    "contrast = cv2.imread(\"photoshopped.png\",1)\n",
    "def psnr(img1, img2):\n",
    "    mse = numpy.mean( (img1 - img2) ** 2 )\n",
    "    if mse == 0:\n",
    "    return 100\n",
    "    PIXEL_MAX = 255.0\n",
    "    return 20 * math.log10(PIXEL_MAX / math.sqrt(mse))\n",
    "\n",
    "d=psnr(original,contrast)\n",
    "print(d)"
   ]
  },
  {
   "cell_type": "code",
   "execution_count": null,
   "metadata": {},
   "outputs": [],
   "source": [
    "from images import Image\n",
    "\n",
    "def posterize(image,rgb):\n",
    "    whitePixel = (255,255,255)\n",
    "    for y in range(image.getHeight()):\n",
    "        for x in range(image.getWidth()):\n",
    "            (nr, ng, nb) = image.getPixel(x,y)\n",
    "            average = (nr + ng + nb)/3\n",
    "            if average < 128:\n",
    "                image.setPixel((x,y),rgb)\n",
    "            else:\n",
    "                image.setPixel((x,y),whitePixel)\n",
    "\n",
    "def main():\n",
    "    filename = input(\"Enter the image file name: \")\n",
    "    red = int(input(\"Enter an integer [0..255] for red: \"))\n",
    "    green = int(input(\"Enter an integer [0..255] for green: \"))\n",
    "    blue = int(input(\"Enter an integer [0..255] for blue: \"))                    \n",
    "    image = Image(filename)\n",
    "    posterize(image, (red, green, blue))\n",
    "    image.draw()\n",
    "\n",
    "if __name__ == \"__main__\":\n",
    "   main()"
   ]
  },
  {
   "cell_type": "code",
   "execution_count": null,
   "metadata": {},
   "outputs": [],
   "source": []
  }
 ]
}